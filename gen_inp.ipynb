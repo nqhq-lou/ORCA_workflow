{
 "cells": [
  {
   "cell_type": "markdown",
   "metadata": {},
   "source": [
    "# generate inp files ans split\n",
    "\n",
    "- 2 steps:\n",
    "    - generate inp files from xyz files or other formats\n",
    "    - split inp files for multi threads\n"
   ]
  },
  {
   "cell_type": "markdown",
   "metadata": {},
   "source": [
    "## generate inp files"
   ]
  },
  {
   "cell_type": "code",
   "execution_count": 2,
   "metadata": {},
   "outputs": [],
   "source": [
    "import os\n",
    "import rootutils\n",
    "\n",
    "rootutils.set_root(\n",
    "    path=rootutils.find_root(search_from='.', indicator='.env'),\n",
    "    project_root_env_var=True,  # set PROJECT_ROOT env var\n",
    "    dotenv=True,  # load dotenv file\n",
    "    cwd=True,  # change working directory\n",
    "    pythonpath=False,  # add project root to PYTHONPATH\n",
    ")\n",
    "\n",
    "\n"
   ]
  },
  {
   "cell_type": "code",
   "execution_count": null,
   "metadata": {},
   "outputs": [],
   "source": [
    "import rootutils\n",
    "\n",
    "# find absolute root path (searches for directory containing .project-root file)\n",
    "# search starts from current file and recursively goes over parent directories\n",
    "# returns pathlib object\n",
    "path = rootutils.find_root(search_from=__file__, indicator=\".project-root\")\n",
    "\n",
    "# find absolute root path (searches for directory containing any of the files on the list)\n",
    "path = rootutils.find_root(search_from=__file__, indicator=[\".git\", \"setup.cfg\"])\n",
    "\n",
    "# take advantage of the pathlib syntax\n",
    "data_dir = path / \"data\"\n",
    "assert data_dir.exists(), f\"path doesn't exist: {data_dir}\"\n",
    "\n",
    "# set root directory\n",
    "rootutils.set_root(\n",
    "    path=path # path to the root directory\n",
    "    project_root_env_var=True, # set the PROJECT_ROOT environment variable to root directory\n",
    "    dotenv=True, # load environment variables from .env if exists in root directory\n",
    "    pythonpath=True, # add root directory to the PYTHONPATH (helps with imports)\n",
    "    cwd=True, # change current working directory to the root directory (helps with filepaths)\n",
    ")"
   ]
  }
 ],
 "metadata": {
  "kernelspec": {
   "display_name": "Python 3.9.16 ('dft')",
   "language": "python",
   "name": "python3"
  },
  "language_info": {
   "codemirror_mode": {
    "name": "ipython",
    "version": 3
   },
   "file_extension": ".py",
   "mimetype": "text/x-python",
   "name": "python",
   "nbconvert_exporter": "python",
   "pygments_lexer": "ipython3",
   "version": "3.10.9"
  },
  "orig_nbformat": 4,
  "vscode": {
   "interpreter": {
    "hash": "3d1c935b029a3ebd496b483f3a2d725b25df4987945f57b90d51c3b1dcb028db"
   }
  }
 },
 "nbformat": 4,
 "nbformat_minor": 2
}
