{
 "cells": [
  {
   "cell_type": "markdown",
   "metadata": {},
   "source": [
    "# generate inp files ans split\n",
    "\n",
    "- 2 steps:\n",
    "    - generate inp files from xyz files or other formats\n",
    "    - split inp files for multi threads\n"
   ]
  },
  {
   "cell_type": "code",
   "execution_count": 82,
   "metadata": {},
   "outputs": [
    {
     "data": {
      "text/plain": [
       "'/home/louzekun/orca_cal/qm7_ccsd_t_new'"
      ]
     },
     "execution_count": 82,
     "metadata": {},
     "output_type": "execute_result"
    }
   ],
   "source": [
    "# set project root\n",
    "import os\n",
    "import sys\n",
    "import rootutils\n",
    "\n",
    "rootutils.set_root(\n",
    "    path=rootutils.find_root(search_from='.', indicator='.env'),\n",
    "    project_root_env_var=True,  # set PROJECT_ROOT env var\n",
    "    dotenv=True,  # load dotenv file\n",
    "    cwd=True,  # change working directory\n",
    "    pythonpath=False,  # add project root to PYTHONPATH\n",
    ")\n",
    "\n",
    "PROJECT_ROOT = os.environ[\"PROJECT_ROOT\"]\n",
    "os.chdir(PROJECT_ROOT)\n",
    "PROJECT_ROOT"
   ]
  },
  {
   "cell_type": "markdown",
   "metadata": {},
   "source": [
    "Here is something you should modify according to your own task"
   ]
  },
  {
   "cell_type": "code",
   "execution_count": 83,
   "metadata": {},
   "outputs": [],
   "source": [
    "xyz_dname = \"xyz\"\n",
    "inp_dname = \"inp\"\n",
    "out_dname = \"out\"\n",
    "threads_dname = \"threads\"\n",
    "\n",
    "CAL_CMD = \"! HF DLPNO-CCSD(T) DEF2-QZVPP DEF2-QZVPP/C TightSCF NormalPNO UseSym\"\n",
    "# use a simpler method to calculate energy\n",
    "# CAL_CMD = \"! PBE DEF2-TZVP LooseSCF UseSym\"\n",
    "\n",
    "SPLIT_CNT = 3  # start N orca tasks"
   ]
  },
  {
   "cell_type": "markdown",
   "metadata": {},
   "source": [
    "## generate inp files\n",
    "\n",
    "- in this part, you don't have to change anything, just run the code\n",
    "- and rescue the code if it goes wrong"
   ]
  },
  {
   "cell_type": "code",
   "execution_count": 84,
   "metadata": {},
   "outputs": [
    {
     "data": {
      "text/plain": [
       "'/home/louzekun/orca_cal/qm7_ccsd_t_new'"
      ]
     },
     "execution_count": 84,
     "metadata": {},
     "output_type": "execute_result"
    }
   ],
   "source": [
    "import os\n",
    "import re\n",
    "import os.path as osp\n",
    "from typing import Union, List, Dict\n",
    "\n",
    "from tqdm import tqdm\n",
    "\n",
    "os.chdir(PROJECT_ROOT)\n",
    "os.getcwd()"
   ]
  },
  {
   "cell_type": "code",
   "execution_count": 85,
   "metadata": {},
   "outputs": [
    {
     "name": "stdout",
     "output_type": "stream",
     "text": [
      "len(xyz_fnames)=7165\n"
     ]
    }
   ],
   "source": [
    "xyz_fnames = [i for i in os.listdir(xyz_dname) if i.endswith(\".xyz\")]\n",
    "print(f\"{len(xyz_fnames)=}\")\n"
   ]
  },
  {
   "cell_type": "code",
   "execution_count": 86,
   "metadata": {},
   "outputs": [],
   "source": [
    "def parse_xyz_coords(coords_str:List[str]) -> List[List[Union[str, List[float]]]]:\n",
    "    \"\"\"\n",
    "    input: [\"O  -3.56626  1.77639  0.00000\", ...]\n",
    "    output: [[atom, [x, y, z]], ...]\n",
    "    \"\"\"\n",
    "    coords_list = []\n",
    "    regex = re.compile(r\"([A-Z][a-z]*)\\s+(-?\\d+\\.\\d+)\\s+(-?\\d+\\.\\d+)\\s+(-?\\d+\\.\\d+)\")\n",
    "    for line in coords_str:\n",
    "        m = regex.match(line)\n",
    "        if m:\n",
    "            coords_list.append([m.group(1), [float(m.group(2)), float(m.group(3)), float(m.group(4))]])\n",
    "    return coords_list\n",
    "\n",
    "\n",
    "def convert_xyz2inp(\n",
    "    xyz_fpath:str,\n",
    "    inp_fpath:str,\n",
    "    cal_cmd:str,  # like \"! HF/6-31G(d) OPT\"\n",
    "    nproc:Union[int, str],\n",
    "    maxcore:int = 2000,\n",
    "    charge:int = 0,\n",
    "    multiplicity:int = 1,\n",
    "    test=False,  # don't write to inp file\n",
    "):\n",
    "    \"\"\"Convert xyz file to inp file\n",
    "\n",
    "    Supported % commands:\n",
    "    - f'%PAL NPROC {nproc} END'\n",
    "        - nproc = max(nelec, nproc)\n",
    "    - f'%MAXCORE {maxcore}'\n",
    "\n",
    "    `.xyz` file format example: see https://en.wikipedia.org/wiki/XYZ_file_format\n",
    "    \"\"\"\n",
    "\n",
    "    # some preparations\n",
    "    ELEC = {\"H\":1, \"He\":2, \"Li\":3, \"Be\":4, \"B\":5, \"C\":6, \"N\":7, \"O\":8, \"F\":9, \"Ne\":10,\n",
    "            \"Na\":11, \"Mg\":12, \"Al\":13, \"Si\":14, \"P\":15, \"S\":16, \"Cl\":17, \"Ar\":18, \"K\":19, \"Ca\":20}\n",
    "    # B2A = 0.529177208  # Bohr to Angstrom\n",
    "\n",
    "    # parse xyz file\n",
    "    with open(xyz_fpath, \"r\") as f:\n",
    "        xyz_coords_str = f.readlines()[2:]  # skip natom and comment\n",
    "    xyz_coords_str = [line.strip('\\n') for line in xyz_coords_str]\n",
    "    coords = parse_xyz_coords(xyz_coords_str)\n",
    "    nelec = sum([ELEC[atom] for atom, _ in coords]) - charge  # charge +1 -> e- one fewer\n",
    "    if nproc is None:\n",
    "        nproc = nelec\n",
    "    else:\n",
    "        nproc = min(nelec, nproc)\n",
    "\n",
    "    # prepare inp text and write\n",
    "    # inp_coords_str = [f\"{atom} {x} {y} {z}\" for atom, [x, y, z] in coords]\n",
    "    inp_coords_str = xyz_coords_str\n",
    "    inp_lines = [\n",
    "        cal_cmd,\n",
    "        f\"%PAL NPROC {nproc} END\",\n",
    "        f\"%MAXCORE {maxcore}\",\n",
    "        f\"* xyz {charge} {multiplicity}\",\n",
    "    ] + inp_coords_str + [\"*\", ]\n",
    "    inp_text = \"\\n\".join(inp_lines)\n",
    "    if test:\n",
    "        return inp_text\n",
    "    else:\n",
    "        with open(inp_fpath, \"w\") as f:\n",
    "            f.write(inp_text)\n",
    "\n"
   ]
  },
  {
   "cell_type": "code",
   "execution_count": 87,
   "metadata": {},
   "outputs": [
    {
     "name": "stdout",
     "output_type": "stream",
     "text": [
      "! HF DLPNO-CCSD(T) DEF2-QZVPP DEF2-QZVPP/C TightSCF NormalPNO UseSym\n",
      "%PAL NPROC 10 END\n",
      "%MAXCORE 2000\n",
      "* xyz 0 1\n",
      "C       0.99826000     -0.00246000     -0.00436000\n",
      "H       2.09021000     -0.00243000      0.00414000\n",
      "H       0.63379000      1.02685999      0.00414000\n",
      "H       0.62704001     -0.52772999      0.87811003\n",
      "H       0.64136001     -0.50746999     -0.90539998\n",
      "*\n"
     ]
    }
   ],
   "source": [
    "print(convert_xyz2inp(\n",
    "    osp.join(xyz_dname, xyz_fnames[0]), None,\n",
    "    cal_cmd=CAL_CMD, nproc=None, test=True))"
   ]
  },
  {
   "cell_type": "code",
   "execution_count": 88,
   "metadata": {},
   "outputs": [
    {
     "name": "stderr",
     "output_type": "stream",
     "text": [
      "100%|█████████████████████████████████████| 7165/7165 [00:01<00:00, 5471.35it/s]\n"
     ]
    }
   ],
   "source": [
    "for xyz_fname in tqdm(xyz_fnames, ncols=80):\n",
    "    task_name = xyz_fname.replace(\".xyz\", \"\")\n",
    "    inp_fname = task_name + \".inp\"\n",
    "    convert_xyz2inp(\n",
    "        osp.join(xyz_dname, xyz_fname),\n",
    "        osp.join(inp_dname, inp_fname),\n",
    "        cal_cmd=CAL_CMD, nproc=None, test=False)\n"
   ]
  },
  {
   "cell_type": "markdown",
   "metadata": {},
   "source": [
    "## split inp files"
   ]
  },
  {
   "cell_type": "code",
   "execution_count": 44,
   "metadata": {},
   "outputs": [
    {
     "data": {
      "text/plain": [
       "'/home/louzekun/orca_cal/qm7_ccsd_t_new'"
      ]
     },
     "execution_count": 44,
     "metadata": {},
     "output_type": "execute_result"
    }
   ],
   "source": [
    "import os\n",
    "import re\n",
    "import os.path as osp\n",
    "from typing import Union, List, Dict\n",
    "import random\n",
    "\n",
    "from tqdm import tqdm\n",
    "\n",
    "\n",
    "os.chdir(PROJECT_ROOT)\n",
    "os.getcwd()"
   ]
  },
  {
   "cell_type": "code",
   "execution_count": 48,
   "metadata": {},
   "outputs": [
    {
     "name": "stdout",
     "output_type": "stream",
     "text": [
      "len(task_names)=7165\n"
     ]
    }
   ],
   "source": [
    "inp_fnames = [i for i in os.listdir(inp_dname) if i.endswith(\".inp\")]\n",
    "task_names = [i.replace(\".inp\", \"\") for i in inp_fnames]\n",
    "print(f\"{len(task_names)=}\")\n",
    "\n",
    "random.seed(0)  # set seed\n",
    "random.shuffle(inp_fnames)\n"
   ]
  },
  {
   "cell_type": "code",
   "execution_count": 57,
   "metadata": {},
   "outputs": [
    {
     "name": "stdout",
     "output_type": "stream",
     "text": [
      "split status: 2389 + 2388 + 2388 = 7165\n"
     ]
    }
   ],
   "source": [
    "# split the list into N parts\n",
    "def split_list(lst:List, n:int) -> List[List]:\n",
    "    return [lst[i::n] for i in range(n)]\n",
    "\n",
    "inp_fnames_split = split_list(inp_fnames, SPLIT_CNT)\n",
    "task_names_split = [[j.replace(\".inp\", \"\") for j in i] for i in inp_fnames_split]\n",
    "\n",
    "assert len(task_names_split) == SPLIT_CNT\n",
    "assert sum([len(i) for i in task_names_split]) == len(inp_fnames)\n",
    "\n",
    "print(\"split status: \", end=\"\")\n",
    "print(\" + \".join([f\"{len(i)}\" for i in task_names_split]), end=\"\")\n",
    "print(f\" = {len(inp_fnames)}\")"
   ]
  },
  {
   "cell_type": "code",
   "execution_count": 60,
   "metadata": {},
   "outputs": [],
   "source": [
    "# write task names of each thread to thread files\n",
    "for thread_id, task_names in enumerate(task_names_split):\n",
    "    with open(osp.join(threads_dname, f\"thread_{thread_id}\"), \"w\") as f:\n",
    "        f.write(\"\\n\".join(task_names))"
   ]
  },
  {
   "cell_type": "code",
   "execution_count": null,
   "metadata": {},
   "outputs": [],
   "source": []
  },
  {
   "cell_type": "code",
   "execution_count": null,
   "metadata": {},
   "outputs": [],
   "source": []
  }
 ],
 "metadata": {
  "kernelspec": {
   "display_name": "Python 3.9.16 ('dft')",
   "language": "python",
   "name": "python3"
  },
  "language_info": {
   "codemirror_mode": {
    "name": "ipython",
    "version": 3
   },
   "file_extension": ".py",
   "mimetype": "text/x-python",
   "name": "python",
   "nbconvert_exporter": "python",
   "pygments_lexer": "ipython3",
   "version": "3.10.9"
  },
  "orig_nbformat": 4,
  "vscode": {
   "interpreter": {
    "hash": "3d1c935b029a3ebd496b483f3a2d725b25df4987945f57b90d51c3b1dcb028db"
   }
  }
 },
 "nbformat": 4,
 "nbformat_minor": 2
}
