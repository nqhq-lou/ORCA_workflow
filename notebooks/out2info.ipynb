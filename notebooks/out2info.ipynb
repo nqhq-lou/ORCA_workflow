{
 "cells": [
  {
   "cell_type": "markdown",
   "metadata": {},
   "source": [
    "# extract information from `.out` files\n",
    "\n"
   ]
  },
  {
   "cell_type": "code",
   "execution_count": 2,
   "metadata": {},
   "outputs": [
    {
     "data": {
      "text/plain": [
       "'/home/louzekun/orca_cal/qm7_ccsd_t_new'"
      ]
     },
     "execution_count": 2,
     "metadata": {},
     "output_type": "execute_result"
    }
   ],
   "source": [
    "# set project root\n",
    "import os\n",
    "import sys\n",
    "import rootutils\n",
    "\n",
    "rootutils.set_root(\n",
    "    path=rootutils.find_root(search_from='.', indicator='.env'),\n",
    "    project_root_env_var=True,  # set PROJECT_ROOT env var\n",
    "    dotenv=True,  # load dotenv file\n",
    "    cwd=True,  # change working directory\n",
    "    pythonpath=False,  # add project root to PYTHONPATH\n",
    ")\n",
    "\n",
    "PROJECT_ROOT = os.environ[\"PROJECT_ROOT\"]\n",
    "os.chdir(PROJECT_ROOT)\n",
    "PROJECT_ROOT"
   ]
  },
  {
   "cell_type": "code",
   "execution_count": 3,
   "metadata": {},
   "outputs": [],
   "source": [
    "import re\n",
    "import csv\n",
    "import pandas\n",
    "from tqdm import tqdm\n"
   ]
  },
  {
   "cell_type": "markdown",
   "metadata": {},
   "source": [
    "I use github copilot, to just paste the output example in the cell and let the copilot do the rest.\n"
   ]
  },
  {
   "cell_type": "code",
   "execution_count": null,
   "metadata": {},
   "outputs": [],
   "source": [
    "\"\"\"\n",
    "infomation to extract:\n",
    "raw:\n",
    "```\n",
    "Number of atoms                             ...      9\n",
    "Number of basis functions                   ...    192\n",
    "Number of shells                            ...     84\n",
    "Maximum angular momentum                    ...      3\n",
    "Triples Correction (T)                     ...     -0.013072999\n",
    "Final correlation energy                   ...     -0.414534966\n",
    "E(CCSD)                                    ...    -79.660833025\n",
    "E(CCSD(T))                                 ...    -79.673906023\n",
    "FINAL SINGLE POINT ENERGY      -111.238840552281\n",
    "TOTAL RUN TIME: 0 days 0 hours 1 minutes 8 seconds 617 msec\n",
    "```\n",
    "\"\"\"\n",
    "# for each line, write the regex to extract the value\n",
    "out_regex = {\n",
    "    \"Number of atoms\": r\"Number of atoms\\s+\\.\\.\\.\\s+(\\d+)\",\n",
    "    \"Number of basis functions\": r\"Number of basis functions\\s+\\.\\.\\.\\s+(\\d+)\",\n",
    "    \"Number of shells\": r\"Number of shells\\s+\\.\\.\\.\\s+(\\d+)\",\n",
    "    \"Triples Correction (T)\": r\"Triples Correction \\(T\\)\\s+\\.\\.\\.\\s+(-?\\d+\\.\\d+)\",\n",
    "    \"Final correlation energy\": r\"Final correlation energy\\s+\\.\\.\\.\\s+(-?\\d+\\.\\d+)\",\n",
    "    \"E(CCSD)\": r\"E\\(CCSD\\)\\s+\\.\\.\\.\\s+(-?\\d+\\.\\d+)\",\n",
    "    # \"E(CCSD(T))\": r\"E\\(CCSD\\(T\\)\\)\\s+\\.\\.\\.\\s+(-?\\d+\\.\\d+)\",  # same as final spe\n",
    "    \"Maximum angular momentum\": r\"Maximum angular momentum\\s+\\.\\.\\.\\s+(\\d+)\",\n",
    "    \"FINAL SINGLE POINT ENERGY\": r\"FINAL SINGLE POINT ENERGY\\s+(-?\\d+\\.\\d+)\",\n",
    "    \"TOTAL RUN TIME\": r\"TOTAL RUN TIME: (\\d+ days \\d+ hours \\d+ minutes \\d+ seconds \\d+ msec)\",\n",
    "}\n"
   ]
  },
  {
   "cell_type": "code",
   "execution_count": null,
   "metadata": {},
   "outputs": [],
   "source": [
    "out_dpath = os.path.join(PROJECT_ROOT, \"out\")\n",
    "\n",
    "# iterate over the out files, find all the regex_str, and write to a csv file\n",
    "out_each_dpaths = [os.path.join(out_dpath, d) for d in os.listdir(out_dpath)]\n",
    "out_fpaths = []\n",
    "for out_each_dpath in tqdm(out_each_dpaths):\n",
    "    if not \"finished\" in os.listdir(out_each_dpath):\n",
    "        continue  # not finished\n",
    "    # the out file is a file ends with .out\n",
    "    out_file = [f for f in os.listdir(out_each_dpath) if f.endswith(\".out\")]\n",
    "    assert len(out_file) == 1\n",
    "    out_file = out_file[0]\n",
    "    out_fpaths.append(os.path.join(out_each_dpath, out_file))\n",
    "\n",
    "len(out_fpaths), out_fpaths[0:3]"
   ]
  },
  {
   "cell_type": "code",
   "execution_count": null,
   "metadata": {},
   "outputs": [],
   "source": [
    "def extract_info(out_file):\n",
    "    with open(out_file, \"r\") as f:\n",
    "        out_str = f.read()\n",
    "    # get out_file file name\n",
    "    out_fname = os.path.basename(out_file)\n",
    "    name = out_fname[:-4]  # remove .out\n",
    "    info = {\"name\": name}\n",
    "    for key, regex in out_regex.items():\n",
    "        match = re.search(regex, out_str)\n",
    "        if match is None:\n",
    "            print(\"Error: {} not found in {}\".format(key, out_file))\n",
    "            return None\n",
    "        info[key] = match.group(1)\n",
    "    # for total run time, convert into seconds\n",
    "    regex = r\"(\\d+) days (\\d+) hours (\\d+) minutes (\\d+) seconds (\\d+) msec\"\n",
    "    match = re.search(regex, info[\"TOTAL RUN TIME\"])\n",
    "    convert_cum = [24*3600, 3600, 60, 1, 1e-3]\n",
    "    info[\"runtime\"] = sum([int(match.group(i+1))*convert_cum[i] for i in range(5)])\n",
    "    return info\n",
    "\n",
    "def write_csv(out_files, csv_file):\n",
    "    with open(csv_file, \"w\") as f:\n",
    "        writer = csv.writer(f)\n",
    "        writer.writerow([\"out_file\"] + list(out_regex.keys()))\n",
    "        for out_file in out_files:\n",
    "            info = extract_info(out_file)\n",
    "            if info is None:\n",
    "                continue\n",
    "            writer.writerow([out_file] + [info[key] for key in out_regex.keys()])\n",
    "\n",
    "\n",
    "\n",
    "out_infos = []\n",
    "for out_fpath in tqdm(out_fpaths):\n",
    "    info = extract_info(out_fpath)\n",
    "    if info is None:\n",
    "        continue\n",
    "    out_infos.append(info)\n",
    "\n",
    "# convert into pandas df\n",
    "df = pandas.DataFrame(out_infos)\n",
    "# remove total run time\n",
    "df = df.drop(columns=[\"TOTAL RUN TIME\"])\n",
    "# sort by name\n",
    "df = df.sort_values(by=[\"name\"])\n",
    "# turn colname to lower case\n",
    "df.columns = [col.lower() for col in df.columns]\n",
    "\n",
    "df.head()\n"
   ]
  },
  {
   "cell_type": "code",
   "execution_count": null,
   "metadata": {},
   "outputs": [],
   "source": [
    "\n",
    "# save to csv and pkl\n",
    "df.to_csv(os.path.join(PROJECT_ROOT, \"notebooks\", \"orca_out.csv\"), index=False)\n",
    "df.to_pickle(os.path.join(PROJECT_ROOT, \"notebooks\", \"orca_out.pkl\"))\n"
   ]
  }
 ],
 "metadata": {
  "kernelspec": {
   "display_name": "Python 3.10.9 ('dft')",
   "language": "python",
   "name": "python3"
  },
  "language_info": {
   "codemirror_mode": {
    "name": "ipython",
    "version": 3
   },
   "file_extension": ".py",
   "mimetype": "text/x-python",
   "name": "python",
   "nbconvert_exporter": "python",
   "pygments_lexer": "ipython3",
   "version": "3.10.9"
  },
  "orig_nbformat": 4,
  "vscode": {
   "interpreter": {
    "hash": "3d1c935b029a3ebd496b483f3a2d725b25df4987945f57b90d51c3b1dcb028db"
   }
  }
 },
 "nbformat": 4,
 "nbformat_minor": 2
}
