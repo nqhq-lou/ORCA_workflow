{
 "cells": [
  {
   "cell_type": "markdown",
   "metadata": {},
   "source": [
    "# extract information from `.out` files\n",
    "\n"
   ]
  },
  {
   "cell_type": "code",
   "execution_count": 1,
   "metadata": {},
   "outputs": [
    {
     "data": {
      "text/plain": [
       "'/home/louzekun/orca_cal/orca_workflow'"
      ]
     },
     "execution_count": 1,
     "metadata": {},
     "output_type": "execute_result"
    }
   ],
   "source": [
    "import os\n",
    "import rootutils\n",
    "rootutils.setup_root(  # setup project root\n",
    "    # search_from=__file__,  # for .py files\n",
    "    search_from=os.getcwd(),  # for .ipynb files\n",
    "    indicator=[\".env\", \".git\", ],\n",
    "    dotenv=True,  # load .env file to environment\n",
    "    pythonpath=True,  # add root dir to PYTHONPATH\n",
    "    cwd=True,  # change working directory to PROJECT_ROOT\n",
    ")\n",
    "\n",
    "PROJECT_ROOT = os.environ[\"PROJECT_ROOT\"]\n",
    "os.getcwd()"
   ]
  },
  {
   "cell_type": "code",
   "execution_count": 2,
   "metadata": {},
   "outputs": [],
   "source": [
    "import re\n",
    "import csv\n",
    "import pandas\n",
    "from tqdm import tqdm\n"
   ]
  },
  {
   "cell_type": "markdown",
   "metadata": {},
   "source": [
    "I use github copilot, to just paste the output example in the cell and let the copilot do the rest.\n"
   ]
  },
  {
   "cell_type": "code",
   "execution_count": 3,
   "metadata": {},
   "outputs": [],
   "source": [
    "\"\"\"\n",
    "infomation to extract:\n",
    "raw:\n",
    "```\n",
    "|  2> %PAL NPROC 52 END\n",
    "Number of atoms                             ...      9\n",
    "Number of basis functions                   ...    192\n",
    "Number of shells                            ...     84\n",
    "Maximum angular momentum                    ...      3\n",
    "Triples Correction (T)                     ...     -0.013072999\n",
    "Final correlation energy                   ...     -0.414534966\n",
    "E(CCSD)                                    ...    -79.660833025\n",
    "E(CCSD(T))                                 ...    -79.673906023\n",
    "FINAL SINGLE POINT ENERGY      -111.238840552281\n",
    "TOTAL RUN TIME: 0 days 0 hours 1 minutes 8 seconds 617 msec\n",
    "```\n",
    "\"\"\"\n",
    "# for each line, write the regex to extract the value\n",
    "out_regex = {\n",
    "    \"NPROC\": r\"NPROC (\\d+) END\",\n",
    "    \"Number of atoms\": r\"Number of atoms\\s+\\.\\.\\.\\s+(\\d+)\",\n",
    "    \"Number of basis functions\": r\"Number of basis functions\\s+\\.\\.\\.\\s+(\\d+)\",\n",
    "    \"Number of shells\": r\"Number of shells\\s+\\.\\.\\.\\s+(\\d+)\",\n",
    "    \"Triples Correction (T)\": r\"Triples Correction \\(T\\)\\s+\\.\\.\\.\\s+(-?\\d+\\.\\d+)\",\n",
    "    \"Final correlation energy\": r\"Final correlation energy\\s+\\.\\.\\.\\s+(-?\\d+\\.\\d+)\",\n",
    "    \"E(CCSD)\": r\"E\\(CCSD\\)\\s+\\.\\.\\.\\s+(-?\\d+\\.\\d+)\",\n",
    "    # \"E(CCSD(T))\": r\"E\\(CCSD\\(T\\)\\)\\s+\\.\\.\\.\\s+(-?\\d+\\.\\d+)\",  # same as final spe\n",
    "    \"Maximum angular momentum\": r\"Maximum angular momentum\\s+\\.\\.\\.\\s+(\\d+)\",\n",
    "    \"FINAL SINGLE POINT ENERGY\": r\"FINAL SINGLE POINT ENERGY\\s+(-?\\d+\\.\\d+)\",\n",
    "    \"TOTAL RUN TIME\": r\"TOTAL RUN TIME: (\\d+ days \\d+ hours \\d+ minutes \\d+ seconds \\d+ msec)\",\n",
    "}\n"
   ]
  },
  {
   "cell_type": "code",
   "execution_count": 4,
   "metadata": {},
   "outputs": [
    {
     "name": "stderr",
     "output_type": "stream",
     "text": [
      "100%|██████████| 9/9 [00:00<00:00, 19388.15it/s]\n"
     ]
    },
    {
     "data": {
      "text/plain": [
       "(7,\n",
       " ['/home/louzekun/orca_cal/orca_workflow/out/0698/0698.out',\n",
       "  '/home/louzekun/orca_cal/orca_workflow/out/3380/3380.out',\n",
       "  '/home/louzekun/orca_cal/orca_workflow/out/3891/3891.out'])"
      ]
     },
     "execution_count": 4,
     "metadata": {},
     "output_type": "execute_result"
    }
   ],
   "source": [
    "# get output file paths\n",
    "\n",
    "out_dpath = os.path.join(PROJECT_ROOT, \"out\")\n",
    "\n",
    "# iterate over the out files, find all the regex_str, and write to a csv file\n",
    "out_each_dpaths = [os.path.join(out_dpath, d) for d in os.listdir(out_dpath)\n",
    "                   if os.path.isdir(os.path.join(out_dpath, d))]\n",
    "out_fpaths = []\n",
    "for out_each_dpath in tqdm(out_each_dpaths):\n",
    "    if not \"finished\" in os.listdir(out_each_dpath):\n",
    "        continue  # not finished\n",
    "    # the out file is a file ends with .out\n",
    "    out_file = [f for f in os.listdir(out_each_dpath) if f.endswith(\".out\")]\n",
    "    assert len(out_file) == 1\n",
    "    out_file = out_file[0]\n",
    "    out_fpaths.append(os.path.join(out_each_dpath, out_file))\n",
    "\n",
    "len(out_fpaths), out_fpaths[0:3]"
   ]
  },
  {
   "cell_type": "code",
   "execution_count": 30,
   "metadata": {},
   "outputs": [
    {
     "name": "stderr",
     "output_type": "stream",
     "text": [
      "100%|██████████| 9/9 [00:00<00:00, 1809.80it/s]\n"
     ]
    },
    {
     "data": {
      "text/html": [
       "<div>\n",
       "<style scoped>\n",
       "    .dataframe tbody tr th:only-of-type {\n",
       "        vertical-align: middle;\n",
       "    }\n",
       "\n",
       "    .dataframe tbody tr th {\n",
       "        vertical-align: top;\n",
       "    }\n",
       "\n",
       "    .dataframe thead th {\n",
       "        text-align: right;\n",
       "    }\n",
       "</style>\n",
       "<table border=\"1\" class=\"dataframe\">\n",
       "  <thead>\n",
       "    <tr style=\"text-align: right;\">\n",
       "      <th></th>\n",
       "      <th>name</th>\n",
       "      <th>nproc</th>\n",
       "      <th>number of atoms</th>\n",
       "      <th>number of basis functions</th>\n",
       "      <th>number of shells</th>\n",
       "      <th>triples correction (t)</th>\n",
       "      <th>final correlation energy</th>\n",
       "      <th>e(ccsd)</th>\n",
       "      <th>maximum angular momentum</th>\n",
       "      <th>final single point energy</th>\n",
       "      <th>runtime</th>\n",
       "      <th>walltime</th>\n",
       "    </tr>\n",
       "  </thead>\n",
       "  <tbody>\n",
       "    <tr>\n",
       "      <th>0</th>\n",
       "      <td>0698</td>\n",
       "      <td>50</td>\n",
       "      <td>18</td>\n",
       "      <td>702</td>\n",
       "      <td>222</td>\n",
       "      <td>-0.048368841</td>\n",
       "      <td>-1.298320194</td>\n",
       "      <td>-272.554763987</td>\n",
       "      <td>4</td>\n",
       "      <td>-272.603132827967</td>\n",
       "      <td>753.840</td>\n",
       "      <td>37692.000</td>\n",
       "    </tr>\n",
       "    <tr>\n",
       "      <th>1</th>\n",
       "      <td>1334</td>\n",
       "      <td>52</td>\n",
       "      <td>15</td>\n",
       "      <td>639</td>\n",
       "      <td>199</td>\n",
       "      <td>-0.062436310</td>\n",
       "      <td>-1.379736203</td>\n",
       "      <td>-304.259858244</td>\n",
       "      <td>4</td>\n",
       "      <td>-304.322294553909</td>\n",
       "      <td>521.108</td>\n",
       "      <td>27097.616</td>\n",
       "    </tr>\n",
       "    <tr>\n",
       "      <th>2</th>\n",
       "      <td>3380</td>\n",
       "      <td>52</td>\n",
       "      <td>15</td>\n",
       "      <td>639</td>\n",
       "      <td>199</td>\n",
       "      <td>-0.058793742</td>\n",
       "      <td>-1.365972056</td>\n",
       "      <td>-308.053775112</td>\n",
       "      <td>4</td>\n",
       "      <td>-308.112568854140</td>\n",
       "      <td>555.136</td>\n",
       "      <td>28867.072</td>\n",
       "    </tr>\n",
       "    <tr>\n",
       "      <th>3</th>\n",
       "      <td>3552</td>\n",
       "      <td>50</td>\n",
       "      <td>11</td>\n",
       "      <td>519</td>\n",
       "      <td>159</td>\n",
       "      <td>-0.063491202</td>\n",
       "      <td>-1.393621261</td>\n",
       "      <td>-342.773457545</td>\n",
       "      <td>4</td>\n",
       "      <td>-342.836948746345</td>\n",
       "      <td>559.531</td>\n",
       "      <td>27976.550</td>\n",
       "    </tr>\n",
       "    <tr>\n",
       "      <th>4</th>\n",
       "      <td>3891</td>\n",
       "      <td>54</td>\n",
       "      <td>16</td>\n",
       "      <td>669</td>\n",
       "      <td>209</td>\n",
       "      <td>-0.060976677</td>\n",
       "      <td>-1.455033020</td>\n",
       "      <td>-325.318297567</td>\n",
       "      <td>4</td>\n",
       "      <td>-325.379274243402</td>\n",
       "      <td>644.558</td>\n",
       "      <td>34806.132</td>\n",
       "    </tr>\n",
       "  </tbody>\n",
       "</table>\n",
       "</div>"
      ],
      "text/plain": [
       "   name nproc number of atoms number of basis functions number of shells  \\\n",
       "0  0698    50              18                       702              222   \n",
       "1  1334    52              15                       639              199   \n",
       "2  3380    52              15                       639              199   \n",
       "3  3552    50              11                       519              159   \n",
       "4  3891    54              16                       669              209   \n",
       "\n",
       "  triples correction (t) final correlation energy         e(ccsd)  \\\n",
       "0           -0.048368841             -1.298320194  -272.554763987   \n",
       "1           -0.062436310             -1.379736203  -304.259858244   \n",
       "2           -0.058793742             -1.365972056  -308.053775112   \n",
       "3           -0.063491202             -1.393621261  -342.773457545   \n",
       "4           -0.060976677             -1.455033020  -325.318297567   \n",
       "\n",
       "  maximum angular momentum final single point energy  runtime   walltime  \n",
       "0                        4         -272.603132827967  753.840  37692.000  \n",
       "1                        4         -304.322294553909  521.108  27097.616  \n",
       "2                        4         -308.112568854140  555.136  28867.072  \n",
       "3                        4         -342.836948746345  559.531  27976.550  \n",
       "4                        4         -325.379274243402  644.558  34806.132  "
      ]
     },
     "execution_count": 30,
     "metadata": {},
     "output_type": "execute_result"
    }
   ],
   "source": [
    "# extract output info\n",
    "\n",
    "def extract_info(out_file):\n",
    "    with open(out_file, \"r\") as f:\n",
    "        out_str = f.read()\n",
    "    # get out_file file name\n",
    "    out_fname = os.path.basename(out_file)\n",
    "    name = out_fname[:-4]  # remove .out\n",
    "    info = {\"name\": name}\n",
    "    for key, regex in out_regex.items():\n",
    "        match = re.search(regex, out_str)\n",
    "        if match is None:\n",
    "            print(\"Error: {} not found in {}\".format(key, out_file))\n",
    "            return None\n",
    "        info[key] = match.group(1)\n",
    "    # for total run time, convert into seconds\n",
    "    regex = r\"(\\d+) days (\\d+) hours (\\d+) minutes (\\d+) seconds (\\d+) msec\"\n",
    "    match = re.search(regex, info[\"TOTAL RUN TIME\"])\n",
    "    convert_cum = [24*3600, 3600, 60, 1, 1e-3]\n",
    "    info[\"runtime\"] = sum([int(match.group(i+1))*convert_cum[i] for i in range(5)])\n",
    "    # info[\"runtime\"] = round(info[\"runtime\"], 3)\n",
    "    info[\"walltime\"] = info[\"runtime\"] * int(info[\"NPROC\"])\n",
    "    return info\n",
    "\n",
    "def write_csv(out_files, csv_file):\n",
    "    with open(csv_file, \"w\") as f:\n",
    "        writer = csv.writer(f)\n",
    "        writer.writerow([\"out_file\"] + list(out_regex.keys()))\n",
    "        for out_file in out_files:\n",
    "            info = extract_info(out_file)\n",
    "            if info is None:\n",
    "                continue\n",
    "            writer.writerow([out_file] + [info[key] for key in out_regex.keys()])\n",
    "\n",
    "\n",
    "\n",
    "out_infos = []\n",
    "for out_fpath in tqdm(out_fpaths):\n",
    "    info = extract_info(out_fpath)\n",
    "    if info is None:\n",
    "        continue\n",
    "    out_infos.append(info)\n",
    "\n",
    "# convert into pandas df\n",
    "df = pandas.DataFrame(out_infos)\n",
    "# remove total run time\n",
    "df = df.drop(columns=[\"TOTAL RUN TIME\"])\n",
    "# sort by name\n",
    "df = df.sort_values(by=[\"name\"])\n",
    "# turn colname to lower case\n",
    "df.columns = [col.lower() for col in df.columns]\n",
    "\n",
    "df.head()\n"
   ]
  },
  {
   "cell_type": "code",
   "execution_count": null,
   "metadata": {},
   "outputs": [],
   "source": [
    "\n",
    "# save to csv and pkl\n",
    "df.to_csv(os.path.join(PROJECT_ROOT, \"notebooks\", \"orca_out.csv\"), index=False)\n",
    "df.to_pickle(os.path.join(PROJECT_ROOT, \"notebooks\", \"orca_out.pkl\"))\n"
   ]
  },
  {
   "cell_type": "code",
   "execution_count": 47,
   "metadata": {},
   "outputs": [
    {
     "name": "stderr",
     "output_type": "stream",
     "text": [
      "/tmp/ipykernel_205992/2470484645.py:10: SettingWithCopyWarning: \n",
      "A value is trying to be set on a copy of a slice from a DataFrame.\n",
      "Try using .loc[row_indexer,col_indexer] = value instead\n",
      "\n",
      "See the caveats in the documentation: https://pandas.pydata.org/pandas-docs/stable/user_guide/indexing.html#returning-a-view-versus-a-copy\n",
      "  compare_time[c] = compare_time[c].astype(float)\n"
     ]
    },
    {
     "data": {
      "image/png": "[encoded data removed]",
      "text/plain": [
       "<Figure size 640x480 with 1 Axes>"
      ]
     },
     "metadata": {},
     "output_type": "display_data"
    },
    {
     "data": {
      "image/png": "[encoded data removed]",
      "text/plain": [
       "<Figure size 640x480 with 1 Axes>"
      ]
     },
     "metadata": {},
     "output_type": "display_data"
    },
    {
     "data": {
      "text/plain": [
       "[<matplotlib.lines.Line2D at 0x7f13103a8220>]"
      ]
     },
     "execution_count": 47,
     "metadata": {},
     "output_type": "execute_result"
    },
    {
     "data": {
      "image/png": "[encoded data removed]",
      "text/plain": [
       "<Figure size 640x480 with 1 Axes>"
      ]
     },
     "metadata": {},
     "output_type": "display_data"
    }
   ],
   "source": [
    "import matplotlib.pyplot as plt\n",
    "\n",
    "compare_columns = ['name', 'number of atoms', 'number of basis functions', 'runtime', 'walltime']\n",
    "\n",
    "compare_time = df[compare_columns]\n",
    "for c in compare_columns:\n",
    "    if c == 'name':\n",
    "        continue\n",
    "    else:\n",
    "        compare_time[c] = compare_time[c].astype(float)\n",
    "\n",
    "compare_time = compare_time.sort_values('number of atoms')\n",
    "plt.plot(compare_time[\"number of atoms\"], compare_time[\"runtime\"], \"o\")\n",
    "plt.plot([0,18], [0,900])\n",
    "plt.show()\n",
    "\n",
    "compare_time = compare_time.sort_values('number of basis functions')\n",
    "plt.plot(compare_time[\"number of basis functions\"], compare_time[\"runtime\"], \"o\")\n",
    "plt.plot([0,800], [0,900])\n",
    "plt.show()\n",
    "\n",
    "compare_time = compare_time.sort_values('number of basis functions')\n",
    "plt.plot(compare_time[\"number of basis functions\"], compare_time[\"walltime\"], \"o\")\n",
    "plt.plot([0,800], [0,55000])"
   ]
  },
  {
   "cell_type": "code",
   "execution_count": 7,
   "metadata": {},
   "outputs": [],
   "source": []
  },
  {
   "cell_type": "code",
   "execution_count": null,
   "metadata": {},
   "outputs": [],
   "source": []
  }
 ],
 "metadata": {
  "kernelspec": {
   "display_name": "Python 3.10.9 ('dft')",
   "language": "python",
   "name": "python3"
  },
  "language_info": {
   "codemirror_mode": {
    "name": "ipython",
    "version": 3
   },
   "file_extension": ".py",
   "mimetype": "text/x-python",
   "name": "python",
   "nbconvert_exporter": "python",
   "pygments_lexer": "ipython3",
   "version": "3.9.16"
  },
  "orig_nbformat": 4,
  "vscode": {
   "interpreter": {
    "hash": "3d1c935b029a3ebd496b483f3a2d725b25df4987945f57b90d51c3b1dcb028db"
   }
  }
 },
 "nbformat": 4,
 "nbformat_minor": 2
}
